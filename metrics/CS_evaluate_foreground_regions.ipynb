{
 "cells": [
  {
   "cell_type": "code",
   "execution_count": 12,
   "metadata": {
    "scrolled": false
   },
   "outputs": [
    {
     "name": "stdout",
     "output_type": "stream",
     "text": [
      "currently the first 400 ground truth samples are used in evaluation\n",
      "****************************************************\n",
      "baseline_PSP_res50_default_usepredmsk :\n",
      "Mean IU:                    0.57875 (0.57979, 0.38273, 0.77372)\n",
      "****************************************************\n",
      "baseline_PSP_res18_default_usepredmsk :\n",
      "Mean IU:                    0.57863 (0.58986, 0.38159, 0.76444)\n",
      "****************************************************\n",
      "ours_hardthreshold_psp_pooling_resnet18_aug :\n",
      "Mean IU:                    0.60132 (0.60785, 0.39561, 0.80051)\n",
      "****************************************************\n",
      "ours_hardthreshold_psp_pooling_resnet50_aug :\n",
      "Mean IU:                    0.61257 (0.62644, 0.40373, 0.80754)\n",
      "****************************************************\n",
      "ours_hardthreshold_psp_pooling_resnet18_aug_shareearlylayer :\n",
      "Mean IU:                    0.59857 (0.59788, 0.39532, 0.80252)\n",
      "****************************************************\n",
      "ours_hardthreshold_psp_pooling_resnet50_aug_shareearlylayer :\n",
      "Mean IU:                    0.60471 (0.61440, 0.40181, 0.79791)\n",
      "****************************************************\n",
      "baseline_PSP_res50_default :\n",
      "Mean IU:                    0.58256 (0.58807, 0.38638, 0.77324)\n",
      "****************************************************\n",
      "baseline_PSP_res18_default :\n",
      "Mean IU:                    0.59359 (0.60681, 0.39604, 0.77791)\n"
     ]
    }
   ],
   "source": [
    "import numpy as np\n",
    "import os\n",
    "import glob\n",
    "import py_img_seg_eval.eval_segm as eval_segm\n",
    "from skimage import io, transform\n",
    "from tqdm import tqdm\n",
    "\n",
    "dataset_dir = '../dataset/Cityscapes'\n",
    "prediction_dir = os.path.join(dataset_dir, 'predictions', 'val')\n",
    "gt_dir = os.path.join(dataset_dir, 'gt_manual', 'val')\n",
    "gt_list = sorted(glob.glob(gt_dir + '/*/*gt_manual.png'))[100:] #first 100 samples are used for validation\n",
    "                                                                #not for testing\n",
    "\n",
    "NUM_GT = len(gt_list)\n",
    "print('currently the first %g ground truth samples are used in evaluation'%NUM_GT)\n",
    "\n",
    "methods = [\n",
    "        'baseline_PSP_res50_default_usepredmsk',\n",
    "        'baseline_PSP_res18_default_usepredmsk',\n",
    "        'ours_hardthreshold_psp_pooling_resnet18_aug',\n",
    "        'ours_hardthreshold_psp_pooling_resnet50_aug',\n",
    "        'ours_hardthreshold_psp_pooling_resnet18_aug_shareearlylayer',\n",
    "        'ours_hardthreshold_psp_pooling_resnet50_aug_shareearlylayer',\n",
    "        'baseline_PSP_res50_default',\n",
    "        'baseline_PSP_res18_default',\n",
    "\n",
    "]\n",
    "\n",
    "for method in methods:\n",
    "    pred_list = sorted(glob.glob(prediction_dir + '/*/*' + method + '_labelTrainIds.png'))\n",
    "    files = list(zip(gt_list, pred_list))\n",
    "    # print(raw_gt_list)\n",
    "    combined_gt = np.array([[]])\n",
    "    combined_pred = np.array([[]])\n",
    "\n",
    "    for current_file in files:\n",
    "        current_pred = io.imread(current_file[1])\n",
    "        current_gt = io.imread(current_file[0])\n",
    "        current_foregd = io.imread(current_file[0].replace('gt_manual.png', 'gtFine_labelTrainIds.png'\n",
    "                                                   ).replace('gt_manual', 'gtFine_foreground'))\n",
    "        current_gt = transform.resize(current_gt, current_pred.shape, order=0, \n",
    "                                      mode='reflect', preserve_range=True, anti_aliasing=False)\n",
    "        current_foregd = transform.resize(current_foregd, current_pred.shape, order=0, \n",
    "                                      mode='reflect', preserve_range=True, anti_aliasing=False)\n",
    "        \n",
    "\n",
    "        valid_idx = current_gt.reshape(-1) != 255\n",
    "        foregd_idx = current_foregd.reshape(-1) > 0.5\n",
    "        valid_idx = valid_idx * foregd_idx\n",
    "        current_gt = current_gt.reshape(-1)[valid_idx]\n",
    "        current_pred = current_pred.reshape(-1)[valid_idx]\n",
    "\n",
    "        current_gt = current_gt.reshape(1, -1)\n",
    "        current_pred = current_pred.reshape(1, -1)\n",
    "        \n",
    "        combined_gt = np.concatenate((combined_gt, current_gt), axis=1)\n",
    "        combined_pred = np.concatenate((combined_pred, current_pred), axis=1)\n",
    "    \n",
    "    mean_accu = eval_segm.mean_accuracy(combined_pred, combined_gt)\n",
    "    mean_IU = eval_segm.mean_IU(combined_pred, combined_gt)\n",
    "    print('****************************************************')\n",
    "    print(method, ':')\n",
    "#    print('Mean pixel level accuracy:  %.5f (%.5f, %.5f, %.5f)'%\n",
    "#          (mean_accu[0], mean_accu[1][0], mean_accu[1][1], mean_accu[1][2]))\n",
    "    print('Mean IU:                    %.5f (%.5f, %.5f, %.5f)'%\n",
    "          (mean_IU[0], mean_IU[1][0], mean_IU[1][1], mean_IU[1][2]))\n"
   ]
  },
  {
   "cell_type": "markdown",
   "metadata": {},
   "source": [
    "Please note that the results are slightly different from the table in the paper, since in the paper we report the metrics averaged over the last 5 epochs to eliminate small fluctuations."
   ]
  }
 ],
 "metadata": {
  "anaconda-cloud": {},
  "kernelspec": {
   "display_name": "Python 3",
   "language": "python",
   "name": "python3"
  },
  "language_info": {
   "codemirror_mode": {
    "name": "ipython",
    "version": 3
   },
   "file_extension": ".py",
   "mimetype": "text/x-python",
   "name": "python",
   "nbconvert_exporter": "python",
   "pygments_lexer": "ipython3",
   "version": "3.6.8"
  }
 },
 "nbformat": 4,
 "nbformat_minor": 2
}
